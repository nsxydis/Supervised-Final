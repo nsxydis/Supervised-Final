{
 "cells": [
  {
   "cell_type": "markdown",
   "metadata": {},
   "source": [
    "# Supervised Machine Learning Final Assignment\n",
    "Date: Aug2023\n",
    "\n",
    "Data Source: https://www.kaggle.com/datasets/krantiswalke/bank-personal-loan-modelling\n",
    "\n",
    "# Goals\n",
    "1. Explain the dataset\n",
    "2. Explore the data\n",
    "3. Clean & Transform as needed\n",
    "4. Train a supervised model\n",
    "5. Test the supervised model\n",
    "6. Explore improvement possibilities\n",
    "7. Discussion & Conclusions"
   ]
  },
  {
   "cell_type": "markdown",
   "metadata": {},
   "source": [
    "# The Data\n",
    "This data contains financial information of 5000 bank customers' and results from a previous personal loan campaign. The goal is to create a model to target the people that are more likely to respond positively to loan marketing (i.e. taking out a personal loan) for future loan campaigns. The dataset contains the following fields:\n",
    "1. ID : Customer ID\n",
    "2. Age : Customer's age in completed years\n",
    "3. Experience : #years of professional experience\n",
    "4. Income : Annual income of the customer ($000)\n",
    "5. ZIP Code : Home Address ZIP code.\n",
    "6. Family : Family size of the customer\n",
    "7. CCAvg : Avg. spending on credit cards per month ($000)\n",
    "8. Education : Education Level.\n",
    "    - 1: Undergrad;\n",
    "    - 2: Graduate;\n",
    "    - 3: Advanced/Professional\n",
    "9. Mortgage : Value of house mortgage if any. ($000)\n",
    "10. Personal Loan : Did this customer accept the personal loan offered in the last campaign?\n",
    "11. Securities Account : Does the customer have a securities account with the bank?\n",
    "12. CD Account : Does the customer have a certificate of deposit (CD) account with the bank?\n",
    "13. Online : Does the customer use internet banking facilities?\n",
    "14. Credit card : Does the customer use a credit card issued by the bank?\n",
    "\n"
   ]
  },
  {
   "cell_type": "code",
   "execution_count": 1,
   "metadata": {},
   "outputs": [],
   "source": [
    "# Import modules\n",
    "import polars as pl\n",
    "import altair as alt\n",
    "import pgeocode, requests\n",
    "import numpy as np\n",
    "from seaborn import heatmap\n",
    "from sklearn.neighbors import KNeighborsClassifier as KNN\n",
    "from sklearn.model_selection import train_test_split\n",
    "from sklearn.metrics import confusion_matrix, ConfusionMatrixDisplay\n"
   ]
  },
  {
   "cell_type": "code",
   "execution_count": 2,
   "metadata": {},
   "outputs": [],
   "source": [
    "# Import the data\n",
    "url = \"https://raw.githubusercontent.com/nsxydis/Supervised-Final/main/Bank_Personal_Loan_Modelling.csv\"\n",
    "df = pl.read_csv(url)\n",
    "\n",
    "# Convert all the columns to lower case\n",
    "df.columns = [col.lower() for col in df.columns]"
   ]
  },
  {
   "cell_type": "markdown",
   "metadata": {},
   "source": [
    "# Exploration\n",
    "Next we'll look at an overview of the data: column types, potential null values, etc."
   ]
  },
  {
   "cell_type": "code",
   "execution_count": 3,
   "metadata": {},
   "outputs": [
    {
     "data": {
      "text/html": [
       "<div><style>\n",
       ".dataframe > thead > tr > th,\n",
       ".dataframe > tbody > tr > td {\n",
       "  text-align: right;\n",
       "}\n",
       "</style>\n",
       "<small>shape: (5, 14)</small><table border=\"1\" class=\"dataframe\"><thead><tr><th>id</th><th>age</th><th>experience</th><th>income</th><th>zip code</th><th>family</th><th>ccavg</th><th>education</th><th>mortgage</th><th>personal loan</th><th>securities account</th><th>cd account</th><th>online</th><th>creditcard</th></tr><tr><td>i64</td><td>i64</td><td>i64</td><td>i64</td><td>i64</td><td>i64</td><td>f64</td><td>i64</td><td>i64</td><td>i64</td><td>i64</td><td>i64</td><td>i64</td><td>i64</td></tr></thead><tbody><tr><td>1</td><td>25</td><td>1</td><td>49</td><td>91107</td><td>4</td><td>1.6</td><td>1</td><td>0</td><td>0</td><td>1</td><td>0</td><td>0</td><td>0</td></tr><tr><td>2</td><td>45</td><td>19</td><td>34</td><td>90089</td><td>3</td><td>1.5</td><td>1</td><td>0</td><td>0</td><td>1</td><td>0</td><td>0</td><td>0</td></tr><tr><td>3</td><td>39</td><td>15</td><td>11</td><td>94720</td><td>1</td><td>1.0</td><td>1</td><td>0</td><td>0</td><td>0</td><td>0</td><td>0</td><td>0</td></tr><tr><td>4</td><td>35</td><td>9</td><td>100</td><td>94112</td><td>1</td><td>2.7</td><td>2</td><td>0</td><td>0</td><td>0</td><td>0</td><td>0</td><td>0</td></tr><tr><td>5</td><td>35</td><td>8</td><td>45</td><td>91330</td><td>4</td><td>1.0</td><td>2</td><td>0</td><td>0</td><td>0</td><td>0</td><td>0</td><td>1</td></tr></tbody></table></div>"
      ],
      "text/plain": [
       "shape: (5, 14)\n",
       "┌─────┬─────┬────────────┬────────┬───┬────────────────────┬────────────┬────────┬────────────┐\n",
       "│ id  ┆ age ┆ experience ┆ income ┆ … ┆ securities account ┆ cd account ┆ online ┆ creditcard │\n",
       "│ --- ┆ --- ┆ ---        ┆ ---    ┆   ┆ ---                ┆ ---        ┆ ---    ┆ ---        │\n",
       "│ i64 ┆ i64 ┆ i64        ┆ i64    ┆   ┆ i64                ┆ i64        ┆ i64    ┆ i64        │\n",
       "╞═════╪═════╪════════════╪════════╪═══╪════════════════════╪════════════╪════════╪════════════╡\n",
       "│ 1   ┆ 25  ┆ 1          ┆ 49     ┆ … ┆ 1                  ┆ 0          ┆ 0      ┆ 0          │\n",
       "│ 2   ┆ 45  ┆ 19         ┆ 34     ┆ … ┆ 1                  ┆ 0          ┆ 0      ┆ 0          │\n",
       "│ 3   ┆ 39  ┆ 15         ┆ 11     ┆ … ┆ 0                  ┆ 0          ┆ 0      ┆ 0          │\n",
       "│ 4   ┆ 35  ┆ 9          ┆ 100    ┆ … ┆ 0                  ┆ 0          ┆ 0      ┆ 0          │\n",
       "│ 5   ┆ 35  ┆ 8          ┆ 45     ┆ … ┆ 0                  ┆ 0          ┆ 0      ┆ 1          │\n",
       "└─────┴─────┴────────────┴────────┴───┴────────────────────┴────────────┴────────┴────────────┘"
      ]
     },
     "execution_count": 3,
     "metadata": {},
     "output_type": "execute_result"
    }
   ],
   "source": [
    "df.head()"
   ]
  },
  {
   "cell_type": "code",
   "execution_count": 4,
   "metadata": {},
   "outputs": [
    {
     "name": "stdout",
     "output_type": "stream",
     "text": [
      "<class 'pandas.core.frame.DataFrame'>\n",
      "RangeIndex: 5000 entries, 0 to 4999\n",
      "Data columns (total 14 columns):\n",
      " #   Column              Non-Null Count  Dtype  \n",
      "---  ------              --------------  -----  \n",
      " 0   id                  5000 non-null   int64  \n",
      " 1   age                 5000 non-null   int64  \n",
      " 2   experience          5000 non-null   int64  \n",
      " 3   income              5000 non-null   int64  \n",
      " 4   zip code            5000 non-null   int64  \n",
      " 5   family              5000 non-null   int64  \n",
      " 6   ccavg               5000 non-null   float64\n",
      " 7   education           5000 non-null   int64  \n",
      " 8   mortgage            5000 non-null   int64  \n",
      " 9   personal loan       5000 non-null   int64  \n",
      " 10  securities account  5000 non-null   int64  \n",
      " 11  cd account          5000 non-null   int64  \n",
      " 12  online              5000 non-null   int64  \n",
      " 13  creditcard          5000 non-null   int64  \n",
      "dtypes: float64(1), int64(13)\n",
      "memory usage: 547.0 KB\n"
     ]
    }
   ],
   "source": [
    "df.to_pandas().info()"
   ]
  },
  {
   "cell_type": "markdown",
   "metadata": {},
   "source": [
    "# Clean and Transform\n",
    "Based on the initial viewing of the data we don't have any null values and most of the data are integer values (other than ccavg which is a float). To see if we can extract any additional data, we'll add the longitude and latitude values to our dataframe."
   ]
  },
  {
   "cell_type": "code",
   "execution_count": 5,
   "metadata": {},
   "outputs": [],
   "source": [
    "# Convert zipcode to longitude & latitude\n",
    "# NOTE: To save on time, we'll make a dataframe of all the unique zip codes first\n",
    "nomi = pgeocode.Nominatim('us')\n",
    "\n",
    "def getZip(zipcode):\n",
    "    '''Scrapes zipcode data from the web if we get a null value from pgeocode'''\n",
    "    url = f\"https://uszipcodesbystate.com/zip/{zipcode}\"\n",
    "    r = requests.get(url)\n",
    "\n",
    "    # Find the longitude and latitude\n",
    "    next = False\n",
    "    now = False\n",
    "    for line in r.text.split(' '):\n",
    "        if 'name=\"geo.position' in line:\n",
    "            next = True\n",
    "        if next:\n",
    "            if now == False:\n",
    "                now = True\n",
    "            else:\n",
    "                location = line\n",
    "                next = False\n",
    "\n",
    "    # Clean up the location data\n",
    "    try:\n",
    "        location = location.replace('content=', '')\n",
    "        location = location.replace('\"', '')\n",
    "        location = location.split(\";\")\n",
    "        lat, lon = float(location[0]), float(location[1])\n",
    "    except:\n",
    "        # Had some trouble finding data on this point\n",
    "        if zipcode == 96651:\n",
    "            lat, lon = 38.81781, -120.92925\n",
    "        else:\n",
    "            print(f\"Issue finding zip code: {zipcode}\")\n",
    "            lat, lon = 0, 0\n",
    "\n",
    "    return lon, lat\n",
    "\n",
    "# Make a dictionary of all the unique zipcodes\n",
    "zipcodes = {\n",
    "    'zip'   : [],\n",
    "    'lon'   : [],\n",
    "    'lat'   : []\n",
    "}\n",
    "for zipcode in df['zip code'].unique().to_list():\n",
    "    area = nomi.query_postal_code(f\"{zipcode}\")\n",
    "    \n",
    "    zipcodes['zip'].append(zipcode)\n",
    "    lon = float(area['longitude'])\n",
    "    lat = float(area['latitude'])\n",
    "    if np.isnan(lon) or np.isnan(lat):\n",
    "        lon, lat = getZip(zipcode)\n",
    "    zipcodes['lon'].append(lon)\n",
    "    zipcodes['lat'].append(lat)\n",
    "\n",
    "# Convert to a dataframe\n",
    "zipcodes = pl.DataFrame(zipcodes)\n",
    "\n",
    "# Make a function to add the longitude and latitude\n",
    "def lonlat(zipcode, type):\n",
    "    area = zipcodes.filter(pl.col('zip') == zipcode)\n",
    "\n",
    "    if type == \"lon\":\n",
    "        val = area['lon'][0]\n",
    "    elif type == 'lat':\n",
    "        val = area['lat'][0]\n",
    "    else:\n",
    "        val = -1.0\n",
    "\n",
    "    return val\n",
    "    \n",
    "# Add the data to our dataframe\n",
    "df = df.with_columns(pl.col('zip code').apply(lambda x: lonlat(x, 'lon')).alias('longitude'))\n",
    "df = df.with_columns(pl.col('zip code').apply(lambda x: lonlat(x, 'lat')).alias('latitude'))\n"
   ]
  },
  {
   "cell_type": "code",
   "execution_count": 6,
   "metadata": {},
   "outputs": [
    {
     "data": {
      "text/html": [
       "<div>\n",
       "<style scoped>\n",
       "    .dataframe tbody tr th:only-of-type {\n",
       "        vertical-align: middle;\n",
       "    }\n",
       "\n",
       "    .dataframe tbody tr th {\n",
       "        vertical-align: top;\n",
       "    }\n",
       "\n",
       "    .dataframe thead th {\n",
       "        text-align: right;\n",
       "    }\n",
       "</style>\n",
       "<table border=\"1\" class=\"dataframe\">\n",
       "  <thead>\n",
       "    <tr style=\"text-align: right;\">\n",
       "      <th></th>\n",
       "      <th>personal loan</th>\n",
       "      <th>id</th>\n",
       "      <th>age</th>\n",
       "      <th>experience</th>\n",
       "      <th>income</th>\n",
       "      <th>zip code</th>\n",
       "      <th>family</th>\n",
       "      <th>ccavg</th>\n",
       "      <th>education</th>\n",
       "      <th>mortgage</th>\n",
       "      <th>securities account</th>\n",
       "      <th>cd account</th>\n",
       "      <th>online</th>\n",
       "      <th>creditcard</th>\n",
       "      <th>longitude</th>\n",
       "      <th>latitude</th>\n",
       "    </tr>\n",
       "  </thead>\n",
       "  <tbody>\n",
       "    <tr>\n",
       "      <th>personal loan</th>\n",
       "      <td>1.000000</td>\n",
       "      <td>-0.024801</td>\n",
       "      <td>-0.007726</td>\n",
       "      <td>-0.007413</td>\n",
       "      <td>0.502462</td>\n",
       "      <td>0.000107</td>\n",
       "      <td>0.061367</td>\n",
       "      <td>0.366889</td>\n",
       "      <td>0.136722</td>\n",
       "      <td>0.142095</td>\n",
       "      <td>0.021954</td>\n",
       "      <td>0.316355</td>\n",
       "      <td>0.006278</td>\n",
       "      <td>0.002802</td>\n",
       "      <td>-0.002444</td>\n",
       "      <td>-0.007148</td>\n",
       "    </tr>\n",
       "    <tr>\n",
       "      <th>id</th>\n",
       "      <td>-0.024801</td>\n",
       "      <td>1.000000</td>\n",
       "      <td>-0.008473</td>\n",
       "      <td>-0.008326</td>\n",
       "      <td>-0.017695</td>\n",
       "      <td>0.013432</td>\n",
       "      <td>-0.016797</td>\n",
       "      <td>-0.024675</td>\n",
       "      <td>0.021463</td>\n",
       "      <td>-0.013920</td>\n",
       "      <td>-0.016972</td>\n",
       "      <td>-0.006909</td>\n",
       "      <td>-0.002528</td>\n",
       "      <td>0.017028</td>\n",
       "      <td>-0.019771</td>\n",
       "      <td>0.015296</td>\n",
       "    </tr>\n",
       "    <tr>\n",
       "      <th>age</th>\n",
       "      <td>-0.007726</td>\n",
       "      <td>-0.008473</td>\n",
       "      <td>1.000000</td>\n",
       "      <td>0.994215</td>\n",
       "      <td>-0.055269</td>\n",
       "      <td>-0.029216</td>\n",
       "      <td>-0.046418</td>\n",
       "      <td>-0.052012</td>\n",
       "      <td>0.041334</td>\n",
       "      <td>-0.012539</td>\n",
       "      <td>-0.000436</td>\n",
       "      <td>0.008043</td>\n",
       "      <td>0.013702</td>\n",
       "      <td>0.007681</td>\n",
       "      <td>0.020405</td>\n",
       "      <td>-0.024549</td>\n",
       "    </tr>\n",
       "    <tr>\n",
       "      <th>experience</th>\n",
       "      <td>-0.007413</td>\n",
       "      <td>-0.008326</td>\n",
       "      <td>0.994215</td>\n",
       "      <td>1.000000</td>\n",
       "      <td>-0.046574</td>\n",
       "      <td>-0.028626</td>\n",
       "      <td>-0.052563</td>\n",
       "      <td>-0.050077</td>\n",
       "      <td>0.013152</td>\n",
       "      <td>-0.010582</td>\n",
       "      <td>-0.001232</td>\n",
       "      <td>0.010353</td>\n",
       "      <td>0.013898</td>\n",
       "      <td>0.008967</td>\n",
       "      <td>0.020445</td>\n",
       "      <td>-0.024754</td>\n",
       "    </tr>\n",
       "    <tr>\n",
       "      <th>income</th>\n",
       "      <td>0.502462</td>\n",
       "      <td>-0.017695</td>\n",
       "      <td>-0.055269</td>\n",
       "      <td>-0.046574</td>\n",
       "      <td>1.000000</td>\n",
       "      <td>-0.016410</td>\n",
       "      <td>-0.157501</td>\n",
       "      <td>0.645984</td>\n",
       "      <td>-0.187524</td>\n",
       "      <td>0.206806</td>\n",
       "      <td>-0.002616</td>\n",
       "      <td>0.169738</td>\n",
       "      <td>0.014206</td>\n",
       "      <td>-0.002385</td>\n",
       "      <td>0.012302</td>\n",
       "      <td>-0.027389</td>\n",
       "    </tr>\n",
       "    <tr>\n",
       "      <th>zip code</th>\n",
       "      <td>0.000107</td>\n",
       "      <td>0.013432</td>\n",
       "      <td>-0.029216</td>\n",
       "      <td>-0.028626</td>\n",
       "      <td>-0.016410</td>\n",
       "      <td>1.000000</td>\n",
       "      <td>0.011778</td>\n",
       "      <td>-0.004061</td>\n",
       "      <td>-0.017377</td>\n",
       "      <td>0.007383</td>\n",
       "      <td>0.004704</td>\n",
       "      <td>0.019972</td>\n",
       "      <td>0.016990</td>\n",
       "      <td>0.007691</td>\n",
       "      <td>-0.798365</td>\n",
       "      <td>0.700116</td>\n",
       "    </tr>\n",
       "    <tr>\n",
       "      <th>family</th>\n",
       "      <td>0.061367</td>\n",
       "      <td>-0.016797</td>\n",
       "      <td>-0.046418</td>\n",
       "      <td>-0.052563</td>\n",
       "      <td>-0.157501</td>\n",
       "      <td>0.011778</td>\n",
       "      <td>1.000000</td>\n",
       "      <td>-0.109275</td>\n",
       "      <td>0.064929</td>\n",
       "      <td>-0.020445</td>\n",
       "      <td>0.019994</td>\n",
       "      <td>0.014110</td>\n",
       "      <td>0.010354</td>\n",
       "      <td>0.011588</td>\n",
       "      <td>-0.019601</td>\n",
       "      <td>0.027488</td>\n",
       "    </tr>\n",
       "    <tr>\n",
       "      <th>ccavg</th>\n",
       "      <td>0.366889</td>\n",
       "      <td>-0.024675</td>\n",
       "      <td>-0.052012</td>\n",
       "      <td>-0.050077</td>\n",
       "      <td>0.645984</td>\n",
       "      <td>-0.004061</td>\n",
       "      <td>-0.109275</td>\n",
       "      <td>1.000000</td>\n",
       "      <td>-0.136124</td>\n",
       "      <td>0.109905</td>\n",
       "      <td>0.015086</td>\n",
       "      <td>0.136534</td>\n",
       "      <td>-0.003611</td>\n",
       "      <td>-0.006689</td>\n",
       "      <td>0.003746</td>\n",
       "      <td>-0.016186</td>\n",
       "    </tr>\n",
       "    <tr>\n",
       "      <th>education</th>\n",
       "      <td>0.136722</td>\n",
       "      <td>0.021463</td>\n",
       "      <td>0.041334</td>\n",
       "      <td>0.013152</td>\n",
       "      <td>-0.187524</td>\n",
       "      <td>-0.017377</td>\n",
       "      <td>0.064929</td>\n",
       "      <td>-0.136124</td>\n",
       "      <td>1.000000</td>\n",
       "      <td>-0.033327</td>\n",
       "      <td>-0.010812</td>\n",
       "      <td>0.013934</td>\n",
       "      <td>-0.015004</td>\n",
       "      <td>-0.011014</td>\n",
       "      <td>0.017051</td>\n",
       "      <td>-0.014972</td>\n",
       "    </tr>\n",
       "    <tr>\n",
       "      <th>mortgage</th>\n",
       "      <td>0.142095</td>\n",
       "      <td>-0.013920</td>\n",
       "      <td>-0.012539</td>\n",
       "      <td>-0.010582</td>\n",
       "      <td>0.206806</td>\n",
       "      <td>0.007383</td>\n",
       "      <td>-0.020445</td>\n",
       "      <td>0.109905</td>\n",
       "      <td>-0.033327</td>\n",
       "      <td>1.000000</td>\n",
       "      <td>-0.005411</td>\n",
       "      <td>0.089311</td>\n",
       "      <td>-0.005995</td>\n",
       "      <td>-0.007231</td>\n",
       "      <td>0.000369</td>\n",
       "      <td>-0.001959</td>\n",
       "    </tr>\n",
       "    <tr>\n",
       "      <th>securities account</th>\n",
       "      <td>0.021954</td>\n",
       "      <td>-0.016972</td>\n",
       "      <td>-0.000436</td>\n",
       "      <td>-0.001232</td>\n",
       "      <td>-0.002616</td>\n",
       "      <td>0.004704</td>\n",
       "      <td>0.019994</td>\n",
       "      <td>0.015086</td>\n",
       "      <td>-0.010812</td>\n",
       "      <td>-0.005411</td>\n",
       "      <td>1.000000</td>\n",
       "      <td>0.317034</td>\n",
       "      <td>0.012627</td>\n",
       "      <td>-0.015028</td>\n",
       "      <td>-0.003503</td>\n",
       "      <td>-0.002911</td>\n",
       "    </tr>\n",
       "    <tr>\n",
       "      <th>cd account</th>\n",
       "      <td>0.316355</td>\n",
       "      <td>-0.006909</td>\n",
       "      <td>0.008043</td>\n",
       "      <td>0.010353</td>\n",
       "      <td>0.169738</td>\n",
       "      <td>0.019972</td>\n",
       "      <td>0.014110</td>\n",
       "      <td>0.136534</td>\n",
       "      <td>0.013934</td>\n",
       "      <td>0.089311</td>\n",
       "      <td>0.317034</td>\n",
       "      <td>1.000000</td>\n",
       "      <td>0.175880</td>\n",
       "      <td>0.278644</td>\n",
       "      <td>-0.030684</td>\n",
       "      <td>0.025216</td>\n",
       "    </tr>\n",
       "    <tr>\n",
       "      <th>online</th>\n",
       "      <td>0.006278</td>\n",
       "      <td>-0.002528</td>\n",
       "      <td>0.013702</td>\n",
       "      <td>0.013898</td>\n",
       "      <td>0.014206</td>\n",
       "      <td>0.016990</td>\n",
       "      <td>0.010354</td>\n",
       "      <td>-0.003611</td>\n",
       "      <td>-0.015004</td>\n",
       "      <td>-0.005995</td>\n",
       "      <td>0.012627</td>\n",
       "      <td>0.175880</td>\n",
       "      <td>1.000000</td>\n",
       "      <td>0.004210</td>\n",
       "      <td>-0.015596</td>\n",
       "      <td>0.031294</td>\n",
       "    </tr>\n",
       "    <tr>\n",
       "      <th>creditcard</th>\n",
       "      <td>0.002802</td>\n",
       "      <td>0.017028</td>\n",
       "      <td>0.007681</td>\n",
       "      <td>0.008967</td>\n",
       "      <td>-0.002385</td>\n",
       "      <td>0.007691</td>\n",
       "      <td>0.011588</td>\n",
       "      <td>-0.006689</td>\n",
       "      <td>-0.011014</td>\n",
       "      <td>-0.007231</td>\n",
       "      <td>-0.015028</td>\n",
       "      <td>0.278644</td>\n",
       "      <td>0.004210</td>\n",
       "      <td>1.000000</td>\n",
       "      <td>-0.014531</td>\n",
       "      <td>0.016309</td>\n",
       "    </tr>\n",
       "    <tr>\n",
       "      <th>longitude</th>\n",
       "      <td>-0.002444</td>\n",
       "      <td>-0.019771</td>\n",
       "      <td>0.020405</td>\n",
       "      <td>0.020445</td>\n",
       "      <td>0.012302</td>\n",
       "      <td>-0.798365</td>\n",
       "      <td>-0.019601</td>\n",
       "      <td>0.003746</td>\n",
       "      <td>0.017051</td>\n",
       "      <td>0.000369</td>\n",
       "      <td>-0.003503</td>\n",
       "      <td>-0.030684</td>\n",
       "      <td>-0.015596</td>\n",
       "      <td>-0.014531</td>\n",
       "      <td>1.000000</td>\n",
       "      <td>-0.908321</td>\n",
       "    </tr>\n",
       "    <tr>\n",
       "      <th>latitude</th>\n",
       "      <td>-0.007148</td>\n",
       "      <td>0.015296</td>\n",
       "      <td>-0.024549</td>\n",
       "      <td>-0.024754</td>\n",
       "      <td>-0.027389</td>\n",
       "      <td>0.700116</td>\n",
       "      <td>0.027488</td>\n",
       "      <td>-0.016186</td>\n",
       "      <td>-0.014972</td>\n",
       "      <td>-0.001959</td>\n",
       "      <td>-0.002911</td>\n",
       "      <td>0.025216</td>\n",
       "      <td>0.031294</td>\n",
       "      <td>0.016309</td>\n",
       "      <td>-0.908321</td>\n",
       "      <td>1.000000</td>\n",
       "    </tr>\n",
       "  </tbody>\n",
       "</table>\n",
       "</div>"
      ],
      "text/plain": [
       "                    personal loan        id       age  experience    income  \\\n",
       "personal loan            1.000000 -0.024801 -0.007726   -0.007413  0.502462   \n",
       "id                      -0.024801  1.000000 -0.008473   -0.008326 -0.017695   \n",
       "age                     -0.007726 -0.008473  1.000000    0.994215 -0.055269   \n",
       "experience              -0.007413 -0.008326  0.994215    1.000000 -0.046574   \n",
       "income                   0.502462 -0.017695 -0.055269   -0.046574  1.000000   \n",
       "zip code                 0.000107  0.013432 -0.029216   -0.028626 -0.016410   \n",
       "family                   0.061367 -0.016797 -0.046418   -0.052563 -0.157501   \n",
       "ccavg                    0.366889 -0.024675 -0.052012   -0.050077  0.645984   \n",
       "education                0.136722  0.021463  0.041334    0.013152 -0.187524   \n",
       "mortgage                 0.142095 -0.013920 -0.012539   -0.010582  0.206806   \n",
       "securities account       0.021954 -0.016972 -0.000436   -0.001232 -0.002616   \n",
       "cd account               0.316355 -0.006909  0.008043    0.010353  0.169738   \n",
       "online                   0.006278 -0.002528  0.013702    0.013898  0.014206   \n",
       "creditcard               0.002802  0.017028  0.007681    0.008967 -0.002385   \n",
       "longitude               -0.002444 -0.019771  0.020405    0.020445  0.012302   \n",
       "latitude                -0.007148  0.015296 -0.024549   -0.024754 -0.027389   \n",
       "\n",
       "                    zip code    family     ccavg  education  mortgage  \\\n",
       "personal loan       0.000107  0.061367  0.366889   0.136722  0.142095   \n",
       "id                  0.013432 -0.016797 -0.024675   0.021463 -0.013920   \n",
       "age                -0.029216 -0.046418 -0.052012   0.041334 -0.012539   \n",
       "experience         -0.028626 -0.052563 -0.050077   0.013152 -0.010582   \n",
       "income             -0.016410 -0.157501  0.645984  -0.187524  0.206806   \n",
       "zip code            1.000000  0.011778 -0.004061  -0.017377  0.007383   \n",
       "family              0.011778  1.000000 -0.109275   0.064929 -0.020445   \n",
       "ccavg              -0.004061 -0.109275  1.000000  -0.136124  0.109905   \n",
       "education          -0.017377  0.064929 -0.136124   1.000000 -0.033327   \n",
       "mortgage            0.007383 -0.020445  0.109905  -0.033327  1.000000   \n",
       "securities account  0.004704  0.019994  0.015086  -0.010812 -0.005411   \n",
       "cd account          0.019972  0.014110  0.136534   0.013934  0.089311   \n",
       "online              0.016990  0.010354 -0.003611  -0.015004 -0.005995   \n",
       "creditcard          0.007691  0.011588 -0.006689  -0.011014 -0.007231   \n",
       "longitude          -0.798365 -0.019601  0.003746   0.017051  0.000369   \n",
       "latitude            0.700116  0.027488 -0.016186  -0.014972 -0.001959   \n",
       "\n",
       "                    securities account  cd account    online  creditcard  \\\n",
       "personal loan                 0.021954    0.316355  0.006278    0.002802   \n",
       "id                           -0.016972   -0.006909 -0.002528    0.017028   \n",
       "age                          -0.000436    0.008043  0.013702    0.007681   \n",
       "experience                   -0.001232    0.010353  0.013898    0.008967   \n",
       "income                       -0.002616    0.169738  0.014206   -0.002385   \n",
       "zip code                      0.004704    0.019972  0.016990    0.007691   \n",
       "family                        0.019994    0.014110  0.010354    0.011588   \n",
       "ccavg                         0.015086    0.136534 -0.003611   -0.006689   \n",
       "education                    -0.010812    0.013934 -0.015004   -0.011014   \n",
       "mortgage                     -0.005411    0.089311 -0.005995   -0.007231   \n",
       "securities account            1.000000    0.317034  0.012627   -0.015028   \n",
       "cd account                    0.317034    1.000000  0.175880    0.278644   \n",
       "online                        0.012627    0.175880  1.000000    0.004210   \n",
       "creditcard                   -0.015028    0.278644  0.004210    1.000000   \n",
       "longitude                    -0.003503   -0.030684 -0.015596   -0.014531   \n",
       "latitude                     -0.002911    0.025216  0.031294    0.016309   \n",
       "\n",
       "                    longitude  latitude  \n",
       "personal loan       -0.002444 -0.007148  \n",
       "id                  -0.019771  0.015296  \n",
       "age                  0.020405 -0.024549  \n",
       "experience           0.020445 -0.024754  \n",
       "income               0.012302 -0.027389  \n",
       "zip code            -0.798365  0.700116  \n",
       "family              -0.019601  0.027488  \n",
       "ccavg                0.003746 -0.016186  \n",
       "education            0.017051 -0.014972  \n",
       "mortgage             0.000369 -0.001959  \n",
       "securities account  -0.003503 -0.002911  \n",
       "cd account          -0.030684  0.025216  \n",
       "online              -0.015596  0.031294  \n",
       "creditcard          -0.014531  0.016309  \n",
       "longitude            1.000000 -0.908321  \n",
       "latitude            -0.908321  1.000000  "
      ]
     },
     "execution_count": 6,
     "metadata": {},
     "output_type": "execute_result"
    }
   ],
   "source": [
    "# Reorder columns\n",
    "cols = df.columns\n",
    "cols.remove('personal loan')\n",
    "reorder = ['personal loan']\n",
    "for col in cols:\n",
    "    reorder.append(col)\n",
    "df = df[reorder]\n",
    "\n",
    "# Take a look at the correlation matrix\n",
    "df.to_pandas().corr()"
   ]
  },
  {
   "cell_type": "code",
   "execution_count": 7,
   "metadata": {},
   "outputs": [
    {
     "data": {
      "text/plain": [
       "<Axes: >"
      ]
     },
     "execution_count": 7,
     "metadata": {},
     "output_type": "execute_result"
    },
    {
     "data": {
      "image/png": "[encoded data removed]",
      "text/plain": [
       "<Figure size 640x480 with 2 Axes>"
      ]
     },
     "metadata": {},
     "output_type": "display_data"
    }
   ],
   "source": [
    "# Create a heatmap\n",
    "heatmap(df.to_pandas().corr())"
   ]
  },
  {
   "cell_type": "markdown",
   "metadata": {},
   "source": [
    "# EDA Results\n",
    "It looks like adding the longitude & latitude data didn't add a significant amount of information to the dataset, so for purposes of the model we won't evaluate those fields. \n",
    "\n",
    "Since the target value is the personal loan field, we can look at the correlation matrix to identify the strongest categories to work with. Based on these results, we'll be using the following fields for our initial model:\n",
    "1. income\n",
    "2. ccavg\n",
    "3. cd account\n",
    "4. mortgage\n",
    "\n",
    "NOTE: There does appear to be a high correlation between income and ccavg -- it may be worth removing this field later to improve model performance. "
   ]
  },
  {
   "cell_type": "markdown",
   "metadata": {},
   "source": [
    "# Train a Supervised Classification Model\n",
    "For this assignment we'll use the k-nearest neighbors (KNN) method to classify the data. We'll go through the following steps:\n",
    "1. Split the data into train/test groups\n",
    "2. Fit our model\n",
    "3. Predict the test data results"
   ]
  },
  {
   "cell_type": "code",
   "execution_count": 8,
   "metadata": {},
   "outputs": [],
   "source": [
    "# Set the classifier\n",
    "class knn:\n",
    "    def __init__(self, data, neighbors, categories):\n",
    "        # Initialize the data\n",
    "        self.y = data[['personal loan']].to_pandas()\n",
    "        self.data = data[categories].to_pandas()\n",
    "        self.print = True\n",
    "\n",
    "        # Set up the classifier\n",
    "        self.classifier = KNN(n_neighbors = neighbors)\n",
    "\n",
    "        # Split the data\n",
    "        self.split()\n",
    "\n",
    "        # Train the data\n",
    "        self.train()\n",
    "\n",
    "    def split(self):\n",
    "        '''Split the data into train test groups'''\n",
    "        self.x_train, self.x_test, self.y_train, self.y_test = \\\n",
    "        train_test_split(self.data, self.y, test_size = .3, random_state = 42)\n",
    "\n",
    "    def train(self):\n",
    "        '''Trains the knn classifier'''\n",
    "        self.classifier.fit(self.x_train, self.y_train['personal loan'].ravel())\n",
    "\n",
    "    def predict(self, x):\n",
    "        '''Makes and returns predictions'''\n",
    "        yp = self.classifier.predict(x)\n",
    "        return yp\n",
    "    \n",
    "    def trainResults(self):\n",
    "        '''Prints & returns the accuracy for the training data'''\n",
    "        yp = self.predict(self.x_train)\n",
    "        self.yp_train = yp\n",
    "\n",
    "        # Calculate accuracy\n",
    "        acc = sum(self.y_train['personal loan'] == yp) / len(yp)\n",
    "        if self.print == True:\n",
    "            print(f\"Training Accuracy: {round(acc * 100, 2)}%\")\n",
    "        return acc\n",
    "\n",
    "    def testResults(self):\n",
    "        '''Prints & returns the accuracy for the test data'''\n",
    "        yp = self.predict(self.x_test)\n",
    "        self.yp_test = yp\n",
    "\n",
    "        # Calculate accuracy\n",
    "        acc = sum(self.y_test['personal loan'] == yp) / len(yp)\n",
    "        if self.print == True:\n",
    "            print(f\"Test Accuracy: {round(acc * 100, 2)}%\")\n",
    "        return acc\n",
    "    \n",
    "    def confusion(self, type):\n",
    "        '''Make a confusion matrix'''\n",
    "        if type == 'train':\n",
    "            try:\n",
    "                title = \"Training Confusion Matrix\"\n",
    "                yp = self.yp_train\n",
    "                y = self.y_train\n",
    "            except:\n",
    "                print(\"You need to run self.trainResults() first!\")\n",
    "                return -1\n",
    "\n",
    "        elif type == 'test':\n",
    "            try:\n",
    "                title = \"Testing Confusion Matrix\"\n",
    "                yp = self.yp_test\n",
    "                y = self.y_test\n",
    "            except:\n",
    "                print(\"You need to run self.testResults() first!\")\n",
    "                return -1\n",
    "        \n",
    "        conMatrix = confusion_matrix(y, yp)\n",
    "        if self.print == True:\n",
    "            print(title)\n",
    "            print(conMatrix)\n",
    "\n",
    "        return conMatrix\n",
    "    "
   ]
  },
  {
   "cell_type": "code",
   "execution_count": 9,
   "metadata": {},
   "outputs": [
    {
     "name": "stdout",
     "output_type": "stream",
     "text": [
      "Training Accuracy: 94.31%\n",
      "Test Accuracy: 89.2%\n"
     ]
    }
   ],
   "source": [
    "cat = ['income', 'ccavg', 'cd account', 'mortgage']\n",
    "model = knn(df, neighbors = 3, categories = cat)\n",
    "_ = model.trainResults()\n",
    "_ = model.testResults()"
   ]
  },
  {
   "cell_type": "markdown",
   "metadata": {},
   "source": [
    "# Initial Results\n",
    "The initial results for the model look promising, with an accuracy of about 89%. We'll test if the earlier note is relevant -- does the model improve if we remove 'ccavg' since it has a high correlation with income?"
   ]
  },
  {
   "cell_type": "code",
   "execution_count": 10,
   "metadata": {},
   "outputs": [
    {
     "name": "stdout",
     "output_type": "stream",
     "text": [
      "Training Accuracy: 92.8%\n",
      "Test Accuracy: 89.4%\n"
     ]
    }
   ],
   "source": [
    "cat = ['income', 'cd account', 'mortgage']\n",
    "model = knn(df, neighbors = 3, categories = cat)\n",
    "_ = model.trainResults()\n",
    "_ = model.testResults()"
   ]
  },
  {
   "cell_type": "markdown",
   "metadata": {},
   "source": [
    "# Model Improvements Part 1\n",
    "We see that by removing the correlated category 'ccavg' that the test accuracy improves slightly. We'll try different numbers of neighbors to see if that also has an impact."
   ]
  },
  {
   "cell_type": "code",
   "execution_count": 11,
   "metadata": {},
   "outputs": [
    {
     "name": "stdout",
     "output_type": "stream",
     "text": [
      "Training Accuracy: 92.77%\n",
      "Test Accuracy: 90.33%\n"
     ]
    }
   ],
   "source": [
    "cat = ['income', 'cd account', 'mortgage']\n",
    "\n",
    "model = knn(df, neighbors = 5, categories = cat)\n",
    "_ = model.trainResults()\n",
    "_ = model.testResults()"
   ]
  },
  {
   "cell_type": "markdown",
   "metadata": {},
   "source": [
    "# Model Improvements Part 2\n",
    "## Optimal number of neighbors\n",
    "From the above we can see that increasing the number of neighbors had a positive effect on the test results. We'll take a deeper look to see what the optimal number of neighbors are."
   ]
  },
  {
   "cell_type": "code",
   "execution_count": 12,
   "metadata": {},
   "outputs": [],
   "source": [
    "# For making a dataframe\n",
    "results = {\n",
    "    'n'     : [],\n",
    "    'type'  : [],\n",
    "    'score' : [],\n",
    "}\n",
    "\n",
    "# Loop through different numbers of neighbors\n",
    "for n in range(1, 11):\n",
    "    # print(f\"Number of neighbors: {n}\")\n",
    "    model = knn(df, neighbors = n, categories = cat)\n",
    "    model.print = False\n",
    "\n",
    "    # Append to our dictionary...\n",
    "    # For the training data...\n",
    "    results['n'].append(n)\n",
    "    results['type'].append('train')\n",
    "    results['score'].append(model.trainResults())\n",
    "\n",
    "    # For the testing data...\n",
    "    results['n'].append(n)\n",
    "    results['type'].append('test')\n",
    "    results['score'].append(model.testResults())\n",
    "\n",
    "    # print()\n",
    "\n",
    "# Convert to a dataframe\n",
    "results = pl.DataFrame(results)"
   ]
  },
  {
   "cell_type": "code",
   "execution_count": 13,
   "metadata": {},
   "outputs": [
    {
     "data": {
      "text/html": [
       "\n",
       "<style>\n",
       "  #altair-viz-f2e32b2e615f474ab5155e7850921bd4.vega-embed {\n",
       "    width: 100%;\n",
       "    display: flex;\n",
       "  }\n",
       "\n",
       "  #altair-viz-f2e32b2e615f474ab5155e7850921bd4.vega-embed details,\n",
       "  #altair-viz-f2e32b2e615f474ab5155e7850921bd4.vega-embed details summary {\n",
       "    position: relative;\n",
       "  }\n",
       "</style>\n",
       "<div id=\"altair-viz-f2e32b2e615f474ab5155e7850921bd4\"></div>\n",
       "<script type=\"text/javascript\">\n",
       "  var VEGA_DEBUG = (typeof VEGA_DEBUG == \"undefined\") ? {} : VEGA_DEBUG;\n",
       "  (function(spec, embedOpt){\n",
       "    let outputDiv = document.currentScript.previousElementSibling;\n",
       "    if (outputDiv.id !== \"altair-viz-f2e32b2e615f474ab5155e7850921bd4\") {\n",
       "      outputDiv = document.getElementById(\"altair-viz-f2e32b2e615f474ab5155e7850921bd4\");\n",
       "    }\n",
       "    const paths = {\n",
       "      \"vega\": \"https://cdn.jsdelivr.net/npm/vega@5?noext\",\n",
       "      \"vega-lib\": \"https://cdn.jsdelivr.net/npm/vega-lib?noext\",\n",
       "      \"vega-lite\": \"https://cdn.jsdelivr.net/npm/vega-lite@5.8.0?noext\",\n",
       "      \"vega-embed\": \"https://cdn.jsdelivr.net/npm/vega-embed@6?noext\",\n",
       "    };\n",
       "\n",
       "    function maybeLoadScript(lib, version) {\n",
       "      var key = `${lib.replace(\"-\", \"\")}_version`;\n",
       "      return (VEGA_DEBUG[key] == version) ?\n",
       "        Promise.resolve(paths[lib]) :\n",
       "        new Promise(function(resolve, reject) {\n",
       "          var s = document.createElement('script');\n",
       "          document.getElementsByTagName(\"head\")[0].appendChild(s);\n",
       "          s.async = true;\n",
       "          s.onload = () => {\n",
       "            VEGA_DEBUG[key] = version;\n",
       "            return resolve(paths[lib]);\n",
       "          };\n",
       "          s.onerror = () => reject(`Error loading script: ${paths[lib]}`);\n",
       "          s.src = paths[lib];\n",
       "        });\n",
       "    }\n",
       "\n",
       "    function showError(err) {\n",
       "      outputDiv.innerHTML = `<div class=\"error\" style=\"color:red;\">${err}</div>`;\n",
       "      throw err;\n",
       "    }\n",
       "\n",
       "    function displayChart(vegaEmbed) {\n",
       "      vegaEmbed(outputDiv, spec, embedOpt)\n",
       "        .catch(err => showError(`Javascript Error: ${err.message}<br>This usually means there's a typo in your chart specification. See the javascript console for the full traceback.`));\n",
       "    }\n",
       "\n",
       "    if(typeof define === \"function\" && define.amd) {\n",
       "      requirejs.config({paths});\n",
       "      require([\"vega-embed\"], displayChart, err => showError(`Error loading script: ${err.message}`));\n",
       "    } else {\n",
       "      maybeLoadScript(\"vega\", \"5\")\n",
       "        .then(() => maybeLoadScript(\"vega-lite\", \"5.8.0\"))\n",
       "        .then(() => maybeLoadScript(\"vega-embed\", \"6\"))\n",
       "        .catch(showError)\n",
       "        .then(() => displayChart(vegaEmbed));\n",
       "    }\n",
       "  })({\"config\": {\"view\": {\"continuousWidth\": 300, \"continuousHeight\": 300}}, \"data\": {\"name\": \"data-77fa5e1604181a0faf7b0c956865922a\"}, \"mark\": {\"type\": \"line\"}, \"encoding\": {\"color\": {\"field\": \"type\", \"scale\": {\"domain\": [\"train\", \"test\"]}, \"title\": \"Data Type\", \"type\": \"nominal\"}, \"tooltip\": [{\"field\": \"type\", \"title\": \"Data Type\", \"type\": \"nominal\"}, {\"field\": \"score\", \"title\": \"Accuracy\", \"type\": \"quantitative\"}], \"x\": {\"field\": \"n\", \"title\": \"Number of Neighbors for KNN\", \"type\": \"quantitative\"}, \"y\": {\"field\": \"acc\", \"scale\": {\"domain\": [85, 100]}, \"title\": \"Accuracy (percent)\", \"type\": \"quantitative\"}}, \"title\": [\"Train versus Test Accuracy with different\", \"numbers of neighbors for KNN\"], \"transform\": [{\"calculate\": \"datum.score * 100\", \"as\": \"acc\"}], \"$schema\": \"https://vega.github.io/schema/vega-lite/v5.8.0.json\", \"datasets\": {\"data-77fa5e1604181a0faf7b0c956865922a\": [{\"n\": 1, \"type\": \"train\", \"score\": 0.9474285714285714}, {\"n\": 1, \"type\": \"test\", \"score\": 0.888}, {\"n\": 2, \"type\": \"train\", \"score\": 0.9317142857142857}, {\"n\": 2, \"type\": \"test\", \"score\": 0.898}, {\"n\": 3, \"type\": \"train\", \"score\": 0.928}, {\"n\": 3, \"type\": \"test\", \"score\": 0.894}, {\"n\": 4, \"type\": \"train\", \"score\": 0.9277142857142857}, {\"n\": 4, \"type\": \"test\", \"score\": 0.9}, {\"n\": 5, \"type\": \"train\", \"score\": 0.9277142857142857}, {\"n\": 5, \"type\": \"test\", \"score\": 0.9033333333333333}, {\"n\": 6, \"type\": \"train\", \"score\": 0.9242857142857143}, {\"n\": 6, \"type\": \"test\", \"score\": 0.902}, {\"n\": 7, \"type\": \"train\", \"score\": 0.9268571428571428}, {\"n\": 7, \"type\": \"test\", \"score\": 0.906}, {\"n\": 8, \"type\": \"train\", \"score\": 0.9222857142857143}, {\"n\": 8, \"type\": \"test\", \"score\": 0.904}, {\"n\": 9, \"type\": \"train\", \"score\": 0.9237142857142857}, {\"n\": 9, \"type\": \"test\", \"score\": 0.908}, {\"n\": 10, \"type\": \"train\", \"score\": 0.9205714285714286}, {\"n\": 10, \"type\": \"test\", \"score\": 0.9033333333333333}]}}, {\"mode\": \"vega-lite\"});\n",
       "</script>"
      ],
      "text/plain": [
       "alt.Chart(...)"
      ]
     },
     "execution_count": 13,
     "metadata": {},
     "output_type": "execute_result"
    }
   ],
   "source": [
    "# Plot the results\n",
    "title = [\n",
    "    \"Train versus Test Accuracy with different\",\n",
    "    \"numbers of neighbors for KNN\"\n",
    "]\n",
    "accuracyChart = alt.Chart(results.to_pandas(), title = title).mark_line().encode(\n",
    "    x = alt.X('n', title = \"Number of Neighbors for KNN\"),\n",
    "    y = alt.Y('acc:Q', title = \"Accuracy (percent)\", scale = alt.Scale(domain = [85, 100])),\n",
    "    color = alt.Color('type', title = 'Data Type', scale = alt.Scale(domain = ['train', 'test'])),\n",
    "    tooltip = [\n",
    "        alt.Tooltip('type', title = \"Data Type\"),\n",
    "        alt.Tooltip('score', title = 'Accuracy')\n",
    "    ]\n",
    ").transform_calculate(\n",
    "    acc = 'datum.score * 100'\n",
    ")\n",
    "accuracyChart"
   ]
  },
  {
   "cell_type": "markdown",
   "metadata": {},
   "source": [
    "# Model Improvements Discussion\n",
    "From the above we can see that the model improves with larger numbers of neighbors, but that improvement tapers off at around 7 neighbors. Models tend to generalize better with more neighbors, but having too many neighbors can impact performance as well. So, we'll choose 7 neighbors for the next model and compare the results."
   ]
  },
  {
   "cell_type": "code",
   "execution_count": 14,
   "metadata": {},
   "outputs": [
    {
     "name": "stdout",
     "output_type": "stream",
     "text": [
      "Training Accuracy: 92.69%\n",
      "Test Accuracy: 90.6%\n"
     ]
    }
   ],
   "source": [
    "# Make the model\n",
    "model = knn(df, neighbors = 7, categories = cat)\n",
    "model.trainResults()\n",
    "model.testResults()\n",
    "\n",
    "# Prevent printing the output\n",
    "model.print = False\n",
    "trainCon = model.confusion('train')\n",
    "testCon = model.confusion('test')\n"
   ]
  },
  {
   "cell_type": "code",
   "execution_count": 15,
   "metadata": {},
   "outputs": [
    {
     "name": "stdout",
     "output_type": "stream",
     "text": [
      "Training Confusion Matrix\n"
     ]
    },
    {
     "data": {
      "image/png": "[encoded data removed]",
      "text/plain": [
       "<Figure size 640x480 with 2 Axes>"
      ]
     },
     "metadata": {},
     "output_type": "display_data"
    }
   ],
   "source": [
    "# Plot the training confusion matrix\n",
    "print(\"Training Confusion Matrix\")\n",
    "_ = ConfusionMatrixDisplay(trainCon).plot()"
   ]
  },
  {
   "cell_type": "code",
   "execution_count": 16,
   "metadata": {},
   "outputs": [
    {
     "name": "stdout",
     "output_type": "stream",
     "text": [
      "Testing Confusion Matrix\n"
     ]
    },
    {
     "data": {
      "image/png": "[encoded data removed]",
      "text/plain": [
       "<Figure size 640x480 with 2 Axes>"
      ]
     },
     "metadata": {},
     "output_type": "display_data"
    }
   ],
   "source": [
    "# Plot the testing confusion matrix\n",
    "print(\"Testing Confusion Matrix\")\n",
    "_ = ConfusionMatrixDisplay(testCon).plot()"
   ]
  },
  {
   "cell_type": "code",
   "execution_count": 17,
   "metadata": {},
   "outputs": [
    {
     "name": "stdout",
     "output_type": "stream",
     "text": [
      "Based on the test results of the supervised model:\n",
      "96.25% of people that would reject the loan offer would be correctly identified.\n",
      "32.48% of people that would accept loan offers would be correctly identified.\n",
      "40.7% of people contacted would reject a loan offer.\n",
      "67.52% of people that would accept a loan offer would be missed.\n"
     ]
    }
   ],
   "source": [
    "# Basic Results for the test data\n",
    "# NOTE: Some of this data is redundant, but is important to state anyway\n",
    "def reportConfusion(matrix):\n",
    "    '''Convert the numerical confusion matrix to real words'''\n",
    "    tn = matrix[0][0]\n",
    "    fn = matrix[1][0]\n",
    "    fp = matrix[0][1]\n",
    "    tp = matrix[1][1]\n",
    "\n",
    "    print(\"Based on the test results of the supervised model:\")\n",
    "    ans = round(tn / (tn + tp) * 100, 2)\n",
    "    print(f\"{ans}% of people that would reject the loan offer would be correctly identified.\")\n",
    "    ans = round(tp / (tp + fn) * 100, 2)\n",
    "    print(f\"{ans}% of people that would accept loan offers would be correctly identified.\")\n",
    "    ans = round(fp / (fp + tp) * 100, 2)\n",
    "    print(f\"{ans}% of people contacted would reject a loan offer.\")\n",
    "    ans = round(fn / (fn + tp) * 100, 2)\n",
    "    print(f\"{ans}% of people that would accept a loan offer would be missed.\")\n",
    "\n",
    "reportConfusion(testCon)"
   ]
  },
  {
   "cell_type": "markdown",
   "metadata": {},
   "source": [
    "# Round 2 of Model Improvements\n",
    "From the above we can see that there were a large number of potential loan applicants that were missed by the current settings. Lets run through the models again and look for results that minimize the number of false negatives."
   ]
  },
  {
   "cell_type": "code",
   "execution_count": 18,
   "metadata": {},
   "outputs": [],
   "source": [
    "results = {\n",
    "    'n'     : [],\n",
    "    'type'  : [],\n",
    "    'fn'    : [], # Rate of false negatives\n",
    "}\n",
    "\n",
    "for n in range(1, 11):\n",
    "    # Make the model\n",
    "    model = knn(df, neighbors = n, categories = cat)\n",
    "\n",
    "    # Prevent printing the output\n",
    "    model.print = False\n",
    "\n",
    "    # Test & Train\n",
    "    model.trainResults()\n",
    "    model.testResults()\n",
    "\n",
    "    # Make the confusion matricies...\n",
    "    # ...for training data\n",
    "    trainCon = model.confusion('train')\n",
    "    results['n'].append(n)\n",
    "    results['type'].append('train')\n",
    "\n",
    "    # Get the rate of false negatives\n",
    "    fn = trainCon[1][0]\n",
    "    tot = trainCon[1][0] + trainCon[1][1]\n",
    "    results['fn'].append(fn / tot)\n",
    "\n",
    "\n",
    "    # ...for testing data \n",
    "    testCon = model.confusion('test')\n",
    "    results['n'].append(n)\n",
    "    results['type'].append('test')\n",
    "    \n",
    "    # Get the rate of false negatives\n",
    "    fn = testCon[1][0]\n",
    "    tot = testCon[1][0] + testCon[1][1]\n",
    "    results['fn'].append(fn / tot)\n",
    "\n",
    "# Convert to a dataframe\n",
    "results = pl.DataFrame(results)    "
   ]
  },
  {
   "cell_type": "code",
   "execution_count": 19,
   "metadata": {},
   "outputs": [
    {
     "data": {
      "text/html": [
       "\n",
       "<style>\n",
       "  #altair-viz-9ecb5e327d9f4427acbfbbea6c39a503.vega-embed {\n",
       "    width: 100%;\n",
       "    display: flex;\n",
       "  }\n",
       "\n",
       "  #altair-viz-9ecb5e327d9f4427acbfbbea6c39a503.vega-embed details,\n",
       "  #altair-viz-9ecb5e327d9f4427acbfbbea6c39a503.vega-embed details summary {\n",
       "    position: relative;\n",
       "  }\n",
       "</style>\n",
       "<div id=\"altair-viz-9ecb5e327d9f4427acbfbbea6c39a503\"></div>\n",
       "<script type=\"text/javascript\">\n",
       "  var VEGA_DEBUG = (typeof VEGA_DEBUG == \"undefined\") ? {} : VEGA_DEBUG;\n",
       "  (function(spec, embedOpt){\n",
       "    let outputDiv = document.currentScript.previousElementSibling;\n",
       "    if (outputDiv.id !== \"altair-viz-9ecb5e327d9f4427acbfbbea6c39a503\") {\n",
       "      outputDiv = document.getElementById(\"altair-viz-9ecb5e327d9f4427acbfbbea6c39a503\");\n",
       "    }\n",
       "    const paths = {\n",
       "      \"vega\": \"https://cdn.jsdelivr.net/npm/vega@5?noext\",\n",
       "      \"vega-lib\": \"https://cdn.jsdelivr.net/npm/vega-lib?noext\",\n",
       "      \"vega-lite\": \"https://cdn.jsdelivr.net/npm/vega-lite@5.8.0?noext\",\n",
       "      \"vega-embed\": \"https://cdn.jsdelivr.net/npm/vega-embed@6?noext\",\n",
       "    };\n",
       "\n",
       "    function maybeLoadScript(lib, version) {\n",
       "      var key = `${lib.replace(\"-\", \"\")}_version`;\n",
       "      return (VEGA_DEBUG[key] == version) ?\n",
       "        Promise.resolve(paths[lib]) :\n",
       "        new Promise(function(resolve, reject) {\n",
       "          var s = document.createElement('script');\n",
       "          document.getElementsByTagName(\"head\")[0].appendChild(s);\n",
       "          s.async = true;\n",
       "          s.onload = () => {\n",
       "            VEGA_DEBUG[key] = version;\n",
       "            return resolve(paths[lib]);\n",
       "          };\n",
       "          s.onerror = () => reject(`Error loading script: ${paths[lib]}`);\n",
       "          s.src = paths[lib];\n",
       "        });\n",
       "    }\n",
       "\n",
       "    function showError(err) {\n",
       "      outputDiv.innerHTML = `<div class=\"error\" style=\"color:red;\">${err}</div>`;\n",
       "      throw err;\n",
       "    }\n",
       "\n",
       "    function displayChart(vegaEmbed) {\n",
       "      vegaEmbed(outputDiv, spec, embedOpt)\n",
       "        .catch(err => showError(`Javascript Error: ${err.message}<br>This usually means there's a typo in your chart specification. See the javascript console for the full traceback.`));\n",
       "    }\n",
       "\n",
       "    if(typeof define === \"function\" && define.amd) {\n",
       "      requirejs.config({paths});\n",
       "      require([\"vega-embed\"], displayChart, err => showError(`Error loading script: ${err.message}`));\n",
       "    } else {\n",
       "      maybeLoadScript(\"vega\", \"5\")\n",
       "        .then(() => maybeLoadScript(\"vega-lite\", \"5.8.0\"))\n",
       "        .then(() => maybeLoadScript(\"vega-embed\", \"6\"))\n",
       "        .catch(showError)\n",
       "        .then(() => displayChart(vegaEmbed));\n",
       "    }\n",
       "  })({\"config\": {\"view\": {\"continuousWidth\": 300, \"continuousHeight\": 300}}, \"hconcat\": [{\"data\": {\"name\": \"data-77fa5e1604181a0faf7b0c956865922a\"}, \"mark\": {\"type\": \"line\"}, \"encoding\": {\"color\": {\"field\": \"type\", \"scale\": {\"domain\": [\"train\", \"test\"]}, \"title\": \"Data Type\", \"type\": \"nominal\"}, \"tooltip\": [{\"field\": \"type\", \"title\": \"Data Type\", \"type\": \"nominal\"}, {\"field\": \"score\", \"title\": \"Accuracy\", \"type\": \"quantitative\"}], \"x\": {\"field\": \"n\", \"title\": \"Number of Neighbors for KNN\", \"type\": \"quantitative\"}, \"y\": {\"field\": \"acc\", \"scale\": {\"domain\": [85, 100]}, \"title\": \"Accuracy (percent)\", \"type\": \"quantitative\"}}, \"title\": [\"Train versus Test Accuracy with different\", \"numbers of neighbors for KNN\"], \"transform\": [{\"calculate\": \"datum.score * 100\", \"as\": \"acc\"}]}, {\"data\": {\"name\": \"data-e8be40f49987ed8fe4d4035811e1ae4d\"}, \"mark\": {\"type\": \"line\"}, \"encoding\": {\"color\": {\"field\": \"type\", \"title\": \"Data Type\", \"type\": \"nominal\"}, \"tooltip\": [{\"field\": \"type\", \"title\": \"Data Type\", \"type\": \"nominal\"}, {\"field\": \"fn\", \"title\": \"False Negative Rate\", \"type\": \"quantitative\"}], \"x\": {\"field\": \"n\", \"title\": \"Number of Neighbors\", \"type\": \"quantitative\"}, \"y\": {\"field\": \"fn\", \"title\": \"Rate of false positives\", \"type\": \"quantitative\"}}, \"title\": [\"Rate of false negatives in Train vs. Test\", \"data based on the number of neighbors for KNN\"]}], \"$schema\": \"https://vega.github.io/schema/vega-lite/v5.8.0.json\", \"datasets\": {\"data-77fa5e1604181a0faf7b0c956865922a\": [{\"n\": 1, \"type\": \"train\", \"score\": 0.9474285714285714}, {\"n\": 1, \"type\": \"test\", \"score\": 0.888}, {\"n\": 2, \"type\": \"train\", \"score\": 0.9317142857142857}, {\"n\": 2, \"type\": \"test\", \"score\": 0.898}, {\"n\": 3, \"type\": \"train\", \"score\": 0.928}, {\"n\": 3, \"type\": \"test\", \"score\": 0.894}, {\"n\": 4, \"type\": \"train\", \"score\": 0.9277142857142857}, {\"n\": 4, \"type\": \"test\", \"score\": 0.9}, {\"n\": 5, \"type\": \"train\", \"score\": 0.9277142857142857}, {\"n\": 5, \"type\": \"test\", \"score\": 0.9033333333333333}, {\"n\": 6, \"type\": \"train\", \"score\": 0.9242857142857143}, {\"n\": 6, \"type\": \"test\", \"score\": 0.902}, {\"n\": 7, \"type\": \"train\", \"score\": 0.9268571428571428}, {\"n\": 7, \"type\": \"test\", \"score\": 0.906}, {\"n\": 8, \"type\": \"train\", \"score\": 0.9222857142857143}, {\"n\": 8, \"type\": \"test\", \"score\": 0.904}, {\"n\": 9, \"type\": \"train\", \"score\": 0.9237142857142857}, {\"n\": 9, \"type\": \"test\", \"score\": 0.908}, {\"n\": 10, \"type\": \"train\", \"score\": 0.9205714285714286}, {\"n\": 10, \"type\": \"test\", \"score\": 0.9033333333333333}], \"data-e8be40f49987ed8fe4d4035811e1ae4d\": [{\"n\": 1, \"type\": \"train\", \"fn\": 0.3157894736842105}, {\"n\": 1, \"type\": \"test\", \"fn\": 0.5796178343949044}, {\"n\": 2, \"type\": \"train\", \"fn\": 0.6501547987616099}, {\"n\": 2, \"type\": \"test\", \"fn\": 0.802547770700637}, {\"n\": 3, \"type\": \"train\", \"fn\": 0.44272445820433437}, {\"n\": 3, \"type\": \"test\", \"fn\": 0.5923566878980892}, {\"n\": 4, \"type\": \"train\", \"fn\": 0.6439628482972136}, {\"n\": 4, \"type\": \"test\", \"fn\": 0.7579617834394905}, {\"n\": 5, \"type\": \"train\", \"fn\": 0.5263157894736842}, {\"n\": 5, \"type\": \"test\", \"fn\": 0.6305732484076433}, {\"n\": 6, \"type\": \"train\", \"fn\": 0.7151702786377709}, {\"n\": 6, \"type\": \"test\", \"fn\": 0.7834394904458599}, {\"n\": 7, \"type\": \"train\", \"fn\": 0.6068111455108359}, {\"n\": 7, \"type\": \"test\", \"fn\": 0.6751592356687898}, {\"n\": 8, \"type\": \"train\", \"fn\": 0.7275541795665634}, {\"n\": 8, \"type\": \"test\", \"fn\": 0.7898089171974523}, {\"n\": 9, \"type\": \"train\", \"fn\": 0.631578947368421}, {\"n\": 9, \"type\": \"test\", \"fn\": 0.6624203821656051}, {\"n\": 10, \"type\": \"train\", \"fn\": 0.6996904024767802}, {\"n\": 10, \"type\": \"test\", \"fn\": 0.7388535031847133}]}}, {\"mode\": \"vega-lite\"});\n",
       "</script>"
      ],
      "text/plain": [
       "alt.HConcatChart(...)"
      ]
     },
     "execution_count": 19,
     "metadata": {},
     "output_type": "execute_result"
    }
   ],
   "source": [
    "# Plot the rate of false negatives\n",
    "title = ['Rate of false negatives in Train vs. Test', 'data based on the number of neighbors for KNN']\n",
    "falseNegatives = alt.Chart(results.to_pandas(), title = title).mark_line().encode(\n",
    "    x = alt.X('n', title = \"Number of Neighbors\"),\n",
    "    y = alt.Y('fn', title = \"Rate of false positives\"),\n",
    "    color = alt.Color('type', title = \"Data Type\"),\n",
    "    tooltip = [\n",
    "        alt.Tooltip('type', title = \"Data Type\"),\n",
    "        alt.Tooltip('fn', title = \"False Negative Rate\")\n",
    "    ]\n",
    ")\n",
    "accuracyChart | falseNegatives"
   ]
  },
  {
   "cell_type": "markdown",
   "metadata": {},
   "source": [
    "# Round 2 of Model improvements, graphs\n",
    "Based on the above graphs, we see that the lowest number of false negatives in the test results is when the number of neighbors is 1, at about 57%. The next lowest is with the number of neighbors equal to 3, with about 59% false negatives. Banks would be most interested in having the lowest false negative rate, since that means a loan that they've missed out on. However, since using a low number of neighbors can lead to overfitting the data, we'll use 3 as the number of neighbors for the final model. Let's look at the confusion matrix for those settings."
   ]
  },
  {
   "cell_type": "code",
   "execution_count": 20,
   "metadata": {},
   "outputs": [
    {
     "name": "stdout",
     "output_type": "stream",
     "text": [
      "Training Accuracy: 92.8%\n",
      "Test Accuracy: 89.4%\n"
     ]
    }
   ],
   "source": [
    "# Make the model\n",
    "model = knn(df, neighbors = 3, categories = cat)\n",
    "model.trainResults()\n",
    "model.testResults()\n",
    "\n",
    "# Prevent printing the output\n",
    "model.print = False\n",
    "trainCon = model.confusion('train')\n",
    "testCon = model.confusion('test')"
   ]
  },
  {
   "cell_type": "code",
   "execution_count": 21,
   "metadata": {},
   "outputs": [
    {
     "name": "stdout",
     "output_type": "stream",
     "text": [
      "Training Confusion Matrix\n"
     ]
    },
    {
     "data": {
      "image/png": "[encoded data removed]",
      "text/plain": [
       "<Figure size 640x480 with 2 Axes>"
      ]
     },
     "metadata": {},
     "output_type": "display_data"
    }
   ],
   "source": [
    "# Plot the training confusion matrix\n",
    "print(\"Training Confusion Matrix\")\n",
    "_ = ConfusionMatrixDisplay(trainCon).plot()"
   ]
  },
  {
   "cell_type": "code",
   "execution_count": 22,
   "metadata": {},
   "outputs": [
    {
     "name": "stdout",
     "output_type": "stream",
     "text": [
      "Testing Confusion Matrix\n"
     ]
    },
    {
     "data": {
      "image/png": "[encoded data removed]",
      "text/plain": [
       "<Figure size 640x480 with 2 Axes>"
      ]
     },
     "metadata": {},
     "output_type": "display_data"
    }
   ],
   "source": [
    "# Plot the testing confusion matrix\n",
    "print(\"Testing Confusion Matrix\")\n",
    "_ = ConfusionMatrixDisplay(testCon).plot()"
   ]
  },
  {
   "cell_type": "code",
   "execution_count": 23,
   "metadata": {},
   "outputs": [
    {
     "name": "stdout",
     "output_type": "stream",
     "text": [
      "Based on the test results of the supervised model:\n",
      "95.23% of people that would reject the loan offer would be correctly identified.\n",
      "40.76% of people that would accept loan offers would be correctly identified.\n",
      "50.77% of people contacted would reject a loan offer.\n",
      "59.24% of people that would accept a loan offer would be missed.\n"
     ]
    }
   ],
   "source": [
    "reportConfusion(testCon)"
   ]
  },
  {
   "cell_type": "markdown",
   "metadata": {},
   "source": [
    "# Conclusion\n",
    "The final accuracy of the model is about 90%. However, as we identified in the confusion matrix, the true value of this model would depend on the situation the bank was in. For example if the cost of marketing was extremely high, perhaps people are going door to door or calling individuals, then this model could be a good fit as it reduces the number of interactions substantially. Alternatively if the cost of marketing was low, like sending out generic flyers to all the recipients, and the value of new loans was high, this model might not be as good because you'll potentially miss nearly 60% of the people that may have signed up for a personal loan. Ultimately there would have to be a cost-benefit calculation that determined the value of a new loan versus the cost of marketing before we could consider if this model is sufficient. "
   ]
  }
 ],
 "metadata": {
  "kernelspec": {
   "display_name": "Python 3",
   "language": "python",
   "name": "python3"
  },
  "language_info": {
   "codemirror_mode": {
    "name": "ipython",
    "version": 3
   },
   "file_extension": ".py",
   "mimetype": "text/x-python",
   "name": "python",
   "nbconvert_exporter": "python",
   "pygments_lexer": "ipython3",
   "version": "3.11.4"
  },
  "orig_nbformat": 4
 },
 "nbformat": 4,
 "nbformat_minor": 2
}
